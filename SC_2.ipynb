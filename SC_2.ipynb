{
  "nbformat": 4,
  "nbformat_minor": 0,
  "metadata": {
    "colab": {
      "name": "SC_2.ipynb",
      "provenance": [],
      "collapsed_sections": []
    },
    "kernelspec": {
      "name": "python3",
      "display_name": "Python 3"
    },
    "language_info": {
      "name": "python"
    }
  },
  "cells": [
    {
      "cell_type": "code",
      "metadata": {
        "id": "9-HcQs6FLFIo"
      },
      "source": [
        "import numpy as np \n",
        "import random"
      ],
      "execution_count": 1,
      "outputs": []
    },
    {
      "cell_type": "code",
      "metadata": {
        "id": "GSc7T0d-RNT1"
      },
      "source": [
        "#Populating\n",
        "genpop= []\n",
        "for i in range(100):\n",
        "  pop = np.random.randint(2, size=(10,20))\n",
        "  genpop.append(pop)"
      ],
      "execution_count": 2,
      "outputs": []
    },
    {
      "cell_type": "code",
      "metadata": {
        "id": "GLwq6y1GTNtS"
      },
      "source": [
        "def fitness(arr):\n",
        "  m_count=0\n",
        "  r_count=0\n",
        "  pm= np.zeros(shape=(1, 10))\n",
        "  fit=0\n",
        "  for j in range(20):\n",
        "    for i in range(10):\n",
        "      if j % 5 ==0:\n",
        "        if arr [i,j] == 1:\n",
        "          m_count = m_count+1\n",
        "          pm[0,i] = pm[0,i]+1\n",
        "      else:\n",
        "        if arr [i,j] == 1:\n",
        "          r_count = r_count+1\n",
        "          pm[0,i] = pm[0,i]+1\n",
        "    if m_count == 3:\n",
        "      fit= fit + 10\n",
        "\n",
        "    m_count=0\n",
        "\n",
        "    if r_count== 2:\n",
        "      fit = fit+10\n",
        "    r_count=0\n",
        "  \n",
        "  for i in range(10):\n",
        "    if pm[0,i] >=4 and pm[0,i] <=6:\n",
        "      fit= fit + 1\n",
        "  return fit\n"
      ],
      "execution_count": 3,
      "outputs": []
    },
    {
      "cell_type": "code",
      "metadata": {
        "id": "t0xUPVdo0yeW"
      },
      "source": [
        "def mutation(arr):\n",
        "  for i in range(10):\n",
        "    for j in range(20):\n",
        "      if random.uniform(0,1) > 0.5:\n",
        "        if arr[i][j] == 0:\n",
        "          arr[i][j] =1\n",
        "        else:\n",
        "          arr[i][j] = 0\n",
        "  return arr"
      ],
      "execution_count": 4,
      "outputs": []
    },
    {
      "cell_type": "code",
      "metadata": {
        "colab": {
          "base_uri": "https://localhost:8080/",
          "height": 312
        },
        "id": "kmLJ88Ruzngg",
        "outputId": "b73ca2dd-e63c-4181-bcce-089162664712"
      },
      "source": [
        "\n",
        "# Generation Count: 500\n",
        "order_sol= []\n",
        "fittest= []\n",
        "for i in range (500):\n",
        "  for j in genpop:\n",
        "    order_sol.append((fitness(j),j))\n",
        "  \n",
        "  #Rank Selection\n",
        "  order_sol.sort(key= lambda y:y[0])\n",
        "  order_sol.reverse()\n",
        "  # print(\" Generation \",i,\" best solution \")\n",
        "  # print(\"Fitness value: \",order_sol[0][0])\n",
        "  fittest.append(order_sol[0][0])\n",
        "  \n",
        "  best_sol = order_sol[:50]\n",
        "\n",
        "  #Uniform crossover\n",
        "  co_sol = []\n",
        "  if random.uniform(0,1) <0.5:\n",
        "    for j in range(0,49,2):\n",
        "      a = best_sol[j][1]\n",
        "      b= best_sol[j+1][1]\n",
        "      co_sol.append(a)\n",
        "      co_sol.append(b)\n",
        "      c=a.copy()\n",
        "      d=b.copy()\n",
        "      for x in range(10):\n",
        "        for y in range(20):\n",
        "          p=random.uniform(0,1)\n",
        "          if p <0.5:\n",
        "            c[x][y]=a[x][y]\n",
        "            d[x][y]=b[x][y]\n",
        "          else:\n",
        "            c[x][y]=b[x][y]\n",
        "            d[x][y]=a[x][y]\n",
        "      co_sol.append(c)\n",
        "      co_sol.append(d)\n",
        "\n",
        "  \n",
        "  \n",
        "  # Bit-Flip Mutation \n",
        "  if random.uniform(0,1) <0.01:\n",
        "    if len(co_sol) == 100:\n",
        "      for p in range(0,50):\n",
        "        co_sol[p] = mutation(co_sol[p+50])\n",
        "  \n",
        "  genpop = co_sol.copy()\n",
        "\n",
        "\n",
        "\n",
        "import matplotlib.pyplot as plt\n",
        "\n",
        "y = fittest\n",
        "x= np.arange(1, len(fittest)+1)\n",
        "\n",
        "plt.title(\"Fitness vs Generation\")\n",
        "plt.xlabel(\"Generation: X AXIS\")\n",
        "plt.ylabel(\"Fitness: Y AXIS\")\n",
        "plt.plot(x, y, color =\"red\")\n",
        "plt.show()\n",
        "\n",
        "print(\" Maximum Fitness: \", np.nanmax(fittest))\n"
      ],
      "execution_count": 5,
      "outputs": [
        {
          "output_type": "display_data",
          "data": {
            "image/png": "[encoded data removed]",
            "text/plain": [
              "<Figure size 432x288 with 1 Axes>"
            ]
          },
          "metadata": {
            "needs_background": "light"
          }
        },
        {
          "output_type": "stream",
          "name": "stdout",
          "text": [
            " Maximum Fitness:  84\n"
          ]
        }
      ]
    },
    {
      "cell_type": "code",
      "metadata": {
        "colab": {
          "base_uri": "https://localhost:8080/",
          "height": 312
        },
        "id": "PW2gNnoSBMmu",
        "outputId": "35519071-e11a-46c4-8b7d-a5fe79cf9f36"
      },
      "source": [
        "# Generation Count: 500\n",
        "order_sol= []\n",
        "order_sol1 = []\n",
        "fittest= []\n",
        "for i in range (500):\n",
        "  for j in genpop:\n",
        "    order_sol.append((fitness(j),j))\n",
        "  \n",
        "  #Tournament Selection\n",
        "  if len(order_sol) == 100:\n",
        "    for i in range(0,100,2):\n",
        "      if order_sol[i][0] > order_sol[i+1][0]:\n",
        "        order_sol1.append(order_sol[i])\n",
        "      else:\n",
        "        order_sol1.append(order_sol[i+1])\n",
        "\n",
        "\n",
        "  if len(order_sol) == 100:\n",
        "    \n",
        "    order_sol1.sort(key= lambda y:y[0])\n",
        "    order_sol1.reverse()\n",
        "    best_sol = order_sol1\n",
        "    fittest.append(best_sol[0][0])\n",
        "    order_sol1= []\n",
        "    order_sol = []\n",
        "  elif len(order_sol) == 50:\n",
        "    order_sol.sort(key= lambda y:y[0])\n",
        "    order_sol.reverse()\n",
        "    best_sol = order_sol\n",
        "    fittest.append(best_sol[0][0])\n",
        "    order_sol1= []\n",
        "    order_sol= []\n",
        "\n",
        "  #Uniform crossover\n",
        "  co_sol = []\n",
        "  if random.uniform(0,1) <0.5:\n",
        "    for j in range(0,49,2):\n",
        "      a = best_sol[j][1]\n",
        "      b= best_sol[j+1][1]\n",
        "      co_sol.append(a)\n",
        "      co_sol.append(b)\n",
        "      c=a.copy()\n",
        "      d=b.copy()\n",
        "      for x in range(10):\n",
        "        for y in range(20):\n",
        "          p=random.uniform(0,1)\n",
        "          if p <0.5:\n",
        "            c[x][y]=a[x][y]\n",
        "            d[x][y]=b[x][y]\n",
        "          else:\n",
        "            c[x][y]=b[x][y]\n",
        "            d[x][y]=a[x][y]\n",
        "      co_sol.append(c)\n",
        "      co_sol.append(d)\n",
        "\n",
        "  \n",
        "  \n",
        "  # Bit-Flip Mutation \n",
        "  if random.uniform(0,1) <0.01:\n",
        "    if len(co_sol) == 100:\n",
        "      for p in range(0,50):\n",
        "        co_sol[p] = mutation(co_sol[p+50])\n",
        "  \n",
        "  genpop = co_sol.copy()\n",
        "\n",
        "y = fittest\n",
        "x= np.arange(1, len(fittest)+1)\n",
        "\n",
        "plt.title(\"Fitness vs Generation\")\n",
        "plt.xlabel(\"Generation: X AXIS\")\n",
        "plt.ylabel(\"Fitness: Y AXIS\")\n",
        "plt.plot(x, y, color =\"red\")\n",
        "plt.show()\n",
        "\n",
        "print(\" Maximum Fitness: \", np.nanmax(fittest))"
      ],
      "execution_count": 6,
      "outputs": [
        {
          "output_type": "display_data",
          "data": {
            "image/png": "[encoded data removed]",
            "text/plain": [
              "<Figure size 432x288 with 1 Axes>"
            ]
          },
          "metadata": {
            "needs_background": "light"
          }
        },
        {
          "output_type": "stream",
          "name": "stdout",
          "text": [
            " Maximum Fitness:  198\n"
          ]
        }
      ]
    },
    {
      "cell_type": "code",
      "metadata": {
        "id": "xgqNHgBXvsx7"
      },
      "source": [
        ""
      ],
      "execution_count": 6,
      "outputs": []
    }
  ]
}